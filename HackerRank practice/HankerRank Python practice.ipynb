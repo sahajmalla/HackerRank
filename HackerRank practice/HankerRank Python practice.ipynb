{
 "cells": [
  {
   "cell_type": "markdown",
   "metadata": {},
   "source": [
    "# Find the Runner-Up Score!\n",
    "Given the participants' score sheet for your University Sports Day, you are required to find the runner-up score. You are given  scores. Store them in a list and find the score of the runner-up.\n",
    "\n",
    "## Input Format\n",
    "\n",
    "The first line contains __n__ . The second line contains an array __A[]__ of __n__ integers each separated by a space.\n",
    "\n",
    "## Constraints\n",
    "- 2 <= n <= 10\n",
    "- -100<=A[i] <= 100\n",
    "\n",
    "### Output Format\n",
    "Print the runner-up score.\n",
    "\n",
    "### Sample Input 0\n",
    "\n",
    "5\n",
    "2 3 6 6 5\n",
    "\n",
    "### Sample Output 0\n",
    "\n",
    "5\n",
    "\n",
    "### Explanation 0\n",
    "\n",
    "Given list is __[2,3,6,6,5]__. The maximum score is __6__ , second maximum is __5__ . Hence, we print __5__  as the runner-up score.\n"
   ]
  },
  {
   "cell_type": "code",
   "execution_count": 18,
   "metadata": {},
   "outputs": [
    {
     "name": "stdout",
     "output_type": "stream",
     "text": [
      "1\n",
      "2 2 3 5 6 7 \n",
      "6\n"
     ]
    }
   ],
   "source": [
    "if __name__ == '__main__': \n",
    "    n = int(input())\n",
    "    arr = list(map(int, input().split()))\n",
    "    largest = max(arr)\n",
    "    arr_new = set(arr)\n",
    "    arr_new.remove(max(arr))\n",
    "    print(max(arr_new))"
   ]
  }
 ],
 "metadata": {
  "kernelspec": {
   "display_name": "Python 3",
   "language": "python",
   "name": "python3"
  },
  "language_info": {
   "codemirror_mode": {
    "name": "ipython",
    "version": 3
   },
   "file_extension": ".py",
   "mimetype": "text/x-python",
   "name": "python",
   "nbconvert_exporter": "python",
   "pygments_lexer": "ipython3",
   "version": "3.8.3"
  }
 },
 "nbformat": 4,
 "nbformat_minor": 4
}
